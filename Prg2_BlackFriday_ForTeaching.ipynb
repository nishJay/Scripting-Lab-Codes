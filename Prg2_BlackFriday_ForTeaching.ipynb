{
  "nbformat": 4,
  "nbformat_minor": 0,
  "metadata": {
    "kernelspec": {
      "display_name": "Python 3",
      "language": "python",
      "name": "python3"
    },
    "language_info": {
      "codemirror_mode": {
        "name": "ipython",
        "version": 3
      },
      "file_extension": ".py",
      "mimetype": "text/x-python",
      "name": "python",
      "nbconvert_exporter": "python",
      "pygments_lexer": "ipython3",
      "version": "3.6.9"
    },
    "colab": {
      "provenance": [],
      "include_colab_link": true
    }
  },
  "cells": [
    {
      "cell_type": "markdown",
      "metadata": {
        "id": "view-in-github",
        "colab_type": "text"
      },
      "source": [
        "<a href=\"https://colab.research.google.com/github/nishJay/Scripting-Lab-Codes/blob/main/Prg2_BlackFriday_ForTeaching.ipynb\" target=\"_parent\"><img src=\"https://colab.research.google.com/assets/colab-badge.svg\" alt=\"Open In Colab\"/></a>"
      ]
    },
    {
      "cell_type": "code",
      "metadata": {
        "id": "PAXD5q4inYoQ",
        "outputId": "06c7c624-96af-4055-c311-21271c2b1487"
      },
      "source": [
        "'''\n",
        "******* BLACK FRIDAY ********\n",
        "a)Load the ‘Black Friday’ dataset into one of the data structures (NumPy or Pandas).\n",
        "b)Display header rows and description of the loaded dataset.\n",
        "'''\n",
        "import pandas as pd\n",
        "import numpy as np\n",
        "\n",
        "#df = pd.read_csv(\"BlackFriday.csv\")\n",
        "df = pd.read_csv(\"blackfri.csv\")\n",
        "print(\"<-----Data Information----->\")\n",
        "print(\"\\nHead of Dataset\")\n",
        "print(df.head(5))\n",
        "print(\"\\nHead of Dataset\")\n",
        "print(df.describe())\n",
        "print(df.info())"
      ],
      "execution_count": null,
      "outputs": [
        {
          "output_type": "stream",
          "text": [
            "<-----Data Information----->\n",
            "\n",
            "Head of Dataset\n",
            "   User_ID Product_ID Gender   Age  Occupation City_Category  \\\n",
            "0  1000001  P00069042      F  0-17          10             A   \n",
            "1  1000001  P00248942      F  0-17          10             A   \n",
            "2  1000001  P00087842      F  0-17          10             A   \n",
            "3  1000001  P00085442      F  0-17          10           NaN   \n",
            "4  1000002  P00285442      M   55+          16             C   \n",
            "\n",
            "  Stay_In_Current_City_Years  Marital_Status  Baseball_Caps  Wine_Tumblers  \\\n",
            "0                          2               0              3            NaN   \n",
            "1                          2               0              1            6.0   \n",
            "2                          2               0             12            NaN   \n",
            "3                          2               0             12           14.0   \n",
            "4                         4+               0              8            NaN   \n",
            "\n",
            "   Pet_Raincoats  Purchase  \n",
            "0            NaN      8370  \n",
            "1           14.0     15200  \n",
            "2            NaN      1422  \n",
            "3            5.0      1057  \n",
            "4            NaN      7969  \n",
            "\n",
            "Head of Dataset\n",
            "            User_ID  Occupation  Marital_Status  Baseball_Caps  Wine_Tumblers  \\\n",
            "count  2.100000e+01   21.000000       21.000000      21.000000      15.000000   \n",
            "mean   1.000004e+06   12.047619        0.523810       4.428571       9.133333   \n",
            "std    2.226464e+00    5.444963        0.511766       3.668398       5.111146   \n",
            "min    1.000001e+06    1.000000        0.000000       1.000000       2.000000   \n",
            "25%    1.000003e+06    9.000000        0.000000       1.000000       5.000000   \n",
            "50%    1.000005e+06   10.000000        1.000000       4.000000       8.000000   \n",
            "75%    1.000006e+06   16.000000        1.000000       8.000000      14.000000   \n",
            "max    1.000008e+06   20.000000        1.000000      12.000000      16.000000   \n",
            "\n",
            "       Pet_Raincoats      Purchase  \n",
            "count      12.000000     21.000000  \n",
            "mean       11.416667   9912.809524  \n",
            "std         5.017394   5785.918774  \n",
            "min         4.000000   1057.000000  \n",
            "25%         5.000000   5378.000000  \n",
            "50%        14.000000   8584.000000  \n",
            "75%        14.250000  15227.000000  \n",
            "max        17.000000  19614.000000  \n",
            "<class 'pandas.core.frame.DataFrame'>\n",
            "RangeIndex: 21 entries, 0 to 20\n",
            "Data columns (total 12 columns):\n",
            "User_ID                       21 non-null int64\n",
            "Product_ID                    21 non-null object\n",
            "Gender                        21 non-null object\n",
            "Age                           21 non-null object\n",
            "Occupation                    21 non-null int64\n",
            "City_Category                 17 non-null object\n",
            "Stay_In_Current_City_Years    21 non-null object\n",
            "Marital_Status                21 non-null int64\n",
            "Baseball_Caps                 21 non-null int64\n",
            "Wine_Tumblers                 15 non-null float64\n",
            "Pet_Raincoats                 12 non-null float64\n",
            "Purchase                      21 non-null int64\n",
            "dtypes: float64(2), int64(5), object(5)\n",
            "memory usage: 2.0+ KB\n",
            "None\n"
          ],
          "name": "stdout"
        }
      ]
    },
    {
      "cell_type": "code",
      "metadata": {
        "id": "VJwxBsPrnYoo",
        "outputId": "14e3da98-c572-43c7-9970-384baaf558f3"
      },
      "source": [
        "'''\n",
        "c) Remove unnecessary features (E.g. drop unwanted columns) from the dataset such as ‘User_ID’, ‘Product_ID ‘ ‘Stay_In_Current_City_Years’ .\n",
        "'''\n",
        "df.drop(['User_ID','Product_ID','Stay_In_Current_City_Years'], axis=1, inplace=True)\n",
        "print(df.head(5))\n",
        "\n"
      ],
      "execution_count": null,
      "outputs": [
        {
          "output_type": "stream",
          "text": [
            "  Gender   Age  Occupation City_Category  Marital_Status  Baseball_Caps  \\\n",
            "0      F  0-17          10             A               0              3   \n",
            "1      F  0-17          10             A               0              1   \n",
            "2      F  0-17          10             A               0             12   \n",
            "3      F  0-17          10           NaN               0             12   \n",
            "4      M   55+          16             C               0              8   \n",
            "\n",
            "   Wine_Tumblers  Pet_Raincoats  Purchase  \n",
            "0            NaN            NaN      8370  \n",
            "1            6.0           14.0     15200  \n",
            "2            NaN            NaN      1422  \n",
            "3           14.0            5.0      1057  \n",
            "4            NaN            NaN      7969  \n"
          ],
          "name": "stdout"
        }
      ]
    },
    {
      "cell_type": "code",
      "metadata": {
        "id": "66_KKgAvnYos",
        "outputId": "4de3b82d-4e6b-4e0b-8602-816a206d9246"
      },
      "source": [
        "'''\n",
        "d) Manipulate data by replacing empty column values in ‘City_Category’ with a default value for the city. \n",
        "'''\n",
        "print(\"\\nFilling empty values\")\n",
        "df['City_Category'] = df['City_Category'].fillna(\"A\")\n",
        "print(df.head(5))"
      ],
      "execution_count": null,
      "outputs": [
        {
          "output_type": "stream",
          "text": [
            "\n",
            "Filling empty values\n",
            "  Gender   Age  Occupation City_Category  Marital_Status  Baseball_Caps  \\\n",
            "0      F  0-17          10             A               0              3   \n",
            "1      F  0-17          10             A               0              1   \n",
            "2      F  0-17          10             A               0             12   \n",
            "3      F  0-17          10             A               0             12   \n",
            "4      M   55+          16             C               0              8   \n",
            "\n",
            "   Wine_Tumblers  Pet_Raincoats  Purchase  \n",
            "0            NaN            NaN      8370  \n",
            "1            6.0           14.0     15200  \n",
            "2            NaN            NaN      1422  \n",
            "3           14.0            5.0      1057  \n",
            "4            NaN            NaN      7969  \n"
          ],
          "name": "stdout"
        }
      ]
    },
    {
      "cell_type": "code",
      "metadata": {
        "id": "0ixUzOvgnYou",
        "outputId": "f3914d82-16f5-4b6b-c97a-9dd48b777d9f"
      },
      "source": [
        "'''\n",
        "e) Convert the attribute ‘City_Category’ to have ‘A’ to be ‘Metro Cities’, ‘B’ to be ‘Small Towns’ ,  ‘C’ to be ‘Villages’.\n",
        "'''\n",
        "print(\"\\nMapping values/attributes in City_Category to types\")\n",
        "df['City_Category'] = df['City_Category'].map({'A':'Metro cities','B':'Small Towns','C':'Villages'})\n",
        "print(df.head(5))"
      ],
      "execution_count": null,
      "outputs": [
        {
          "output_type": "stream",
          "text": [
            "\n",
            "Mapping values/attributes in City_Category to types\n",
            "  Gender   Age  Occupation City_Category  Marital_Status  Baseball_Caps  \\\n",
            "0      F  0-17          10  Metro cities               0              3   \n",
            "1      F  0-17          10  Metro cities               0              1   \n",
            "2      F  0-17          10  Metro cities               0             12   \n",
            "3      F  0-17          10  Metro cities               0             12   \n",
            "4      M   55+          16      Villages               0              8   \n",
            "\n",
            "   Wine_Tumblers  Pet_Raincoats  Purchase  \n",
            "0            NaN            NaN      8370  \n",
            "1            6.0           14.0     15200  \n",
            "2            NaN            NaN      1422  \n",
            "3           14.0            5.0      1057  \n",
            "4            NaN            NaN      7969  \n"
          ],
          "name": "stdout"
        }
      ]
    },
    {
      "cell_type": "code",
      "metadata": {
        "id": "a2Xd1GxVnYow",
        "outputId": "e4bff19d-ce86-4f1c-f221-a19b086e9aa9"
      },
      "source": [
        "'''\n",
        "f) Rename the attribute ‘Product_Category_1’ to have ‘Baseball Caps’, \n",
        "‘Product_Category_2’ to have ‘Wine Tumblers’ and ‘Product_Category_3’ to \n",
        "have ‘Pet Raincoats’\n",
        "'''\n",
        "print(\"\\nRenaming the column names\")\n",
        "df.rename(columns={'Product_Category_1':'Baseball_Caps','Product_Category_2':'Wine_Tumblers','Product_Category_3':'Pet_Raincoats'},inplace=True)\n",
        "print(df.head(5))"
      ],
      "execution_count": null,
      "outputs": [
        {
          "output_type": "stream",
          "text": [
            "\n",
            "Renaming the column names\n",
            "  Gender   Age  Occupation City_Category  Marital_Status  Baseball_Caps  \\\n",
            "0      F  0-17          10  Metro cities               0              3   \n",
            "1      F  0-17          10  Metro cities               0              1   \n",
            "2      F  0-17          10  Metro cities               0             12   \n",
            "3      F  0-17          10  Metro cities               0             12   \n",
            "4      M   55+          16      Villages               0              8   \n",
            "\n",
            "   Wine_Tumblers  Pet_Raincoats  Purchase  \n",
            "0            NaN            NaN      8370  \n",
            "1            6.0           14.0     15200  \n",
            "2            NaN            NaN      1422  \n",
            "3           14.0            5.0      1057  \n",
            "4            NaN            NaN      7969  \n"
          ],
          "name": "stdout"
        }
      ]
    },
    {
      "cell_type": "code",
      "metadata": {
        "id": "dhSNeaZ1nYoy",
        "outputId": "89af25ec-a9b3-4d0a-95c0-57d4c1b45c3f"
      },
      "source": [
        "'''\n",
        "g) Convert the attribute ‘Marital_Status’ to have ‘1:Married’ and ‘0:Un-Married’\n",
        "'''\n",
        "print(\"\\nMapping values/attributes in Marital Status to types\")\n",
        "df['Marital_Status'] = df['Marital_Status'].map({1:'Married',0:'Un-Married'})\n",
        "print(df.head(5))\n",
        "\n"
      ],
      "execution_count": null,
      "outputs": [
        {
          "output_type": "stream",
          "text": [
            "\n",
            "Mapping values/attributes in Marital Status to types\n",
            "  Gender   Age  Occupation City_Category Marital_Status  Baseball_Caps  \\\n",
            "0      F  0-17          10  Metro cities     Un-Married              3   \n",
            "1      F  0-17          10  Metro cities     Un-Married              1   \n",
            "2      F  0-17          10  Metro cities     Un-Married             12   \n",
            "3      F  0-17          10  Metro cities     Un-Married             12   \n",
            "4      M   55+          16      Villages     Un-Married              8   \n",
            "\n",
            "   Wine_Tumblers  Pet_Raincoats  Purchase  \n",
            "0            NaN            NaN      8370  \n",
            "1            6.0           14.0     15200  \n",
            "2            NaN            NaN      1422  \n",
            "3           14.0            5.0      1057  \n",
            "4            NaN            NaN      7969  \n"
          ],
          "name": "stdout"
        }
      ]
    },
    {
      "cell_type": "code",
      "metadata": {
        "id": "OSw6XTzSnYoz",
        "outputId": "bdb78a54-0f8f-446f-d380-02354299c4c1"
      },
      "source": [
        "'''\n",
        "h) Perform the following visualizations on the loaded dataset:\n",
        "i)   Tally of the Number of Male & Female who bought ‘Product_Category_3(Pet_Raincoats)’. \n",
        "'''\n",
        "import matplotlib.pyplot as plt\n",
        "import seaborn as sns\n",
        "print(\"<-------Data Visualisation------->\")\n",
        "#print(pd.crosstab(df.Gender,df.Baseball_Caps))\n",
        "print(pd.crosstab(df.Gender,df.Pet_Raincoats))\n",
        "\n",
        "\n",
        "ax = sns.countplot(data=df,x='Gender',hue='Pet_Raincoats',palette='Set2')\n",
        "ax.set(title='Male and Female who bought Pet_Raincoats',xlabel='Gender',ylabel='Count')\n",
        "plt.show()\n"
      ],
      "execution_count": null,
      "outputs": [
        {
          "output_type": "stream",
          "text": [
            "<-------Data Visualisation------->\n",
            "Pet_Raincoats  4.0   5.0   14.0  15.0  16.0  17.0\n",
            "Gender                                           \n",
            "F                 1     2     2     0     0     0\n",
            "M                 0     1     3     1     1     1\n"
          ],
          "name": "stdout"
        },
        {
          "output_type": "display_data",
          "data": {
            "image/png": "[encoded data removed]",
            "text/plain": [
              "<matplotlib.figure.Figure at 0x1a110f5b70>"
            ]
          },
          "metadata": {
            "tags": []
          }
        }
      ]
    },
    {
      "cell_type": "code",
      "metadata": {
        "id": "lbGIeQ5gnYo1",
        "outputId": "23ecd630-533b-4b76-d806-7703aa3bac6c"
      },
      "source": [
        "'''\n",
        "h) Perform the following visualizations on the loaded dataset:\n",
        "ii)  Total Number of Male & Female persons belonging to each city category\n",
        "'''\n",
        "ax = sns.countplot(data=df,x='Gender',hue='City_Category',palette='Set1')\n",
        "ax.set(title='Male and Female belonging to each city',xlabel='Gender',ylabel='Count')\n",
        "plt.show()\n"
      ],
      "execution_count": null,
      "outputs": [
        {
          "output_type": "display_data",
          "data": {
            "image/png": "[encoded data removed]",
            "text/plain": [
              "<matplotlib.figure.Figure at 0x1a111a79e8>"
            ]
          },
          "metadata": {
            "tags": []
          }
        }
      ]
    },
    {
      "cell_type": "markdown",
      "metadata": {
        "id": "SWz_B-_OumSC"
      },
      "source": []
    }
  ]
}