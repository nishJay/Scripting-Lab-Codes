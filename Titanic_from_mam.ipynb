{
  "nbformat": 4,
  "nbformat_minor": 0,
  "metadata": {
    "colab": {
      "provenance": [],
      "authorship_tag": "ABX9TyPAknkuTIpJ3rKOdbpcYsy2",
      "include_colab_link": true
    },
    "kernelspec": {
      "name": "python3",
      "display_name": "Python 3"
    },
    "language_info": {
      "name": "python"
    }
  },
  "cells": [
    {
      "cell_type": "markdown",
      "metadata": {
        "id": "view-in-github",
        "colab_type": "text"
      },
      "source": [
        "<a href=\"https://colab.research.google.com/github/nishJay/Scripting-Lab-Codes/blob/main/Titanic_from_mam.ipynb\" target=\"_parent\"><img src=\"https://colab.research.google.com/assets/colab-badge.svg\" alt=\"Open In Colab\"/></a>"
      ]
    },
    {
      "cell_type": "code",
      "execution_count": 1,
      "metadata": {
        "colab": {
          "base_uri": "https://localhost:8080/",
          "height": 400
        },
        "id": "7tqSVCAI4mpy",
        "outputId": "9ca2173d-dd6e-4494-9765-531f594bedfc"
      },
      "outputs": [
        {
          "output_type": "error",
          "ename": "FileNotFoundError",
          "evalue": "ignored",
          "traceback": [
            "\u001b[0;31m---------------------------------------------------------------------------\u001b[0m",
            "\u001b[0;31mFileNotFoundError\u001b[0m                         Traceback (most recent call last)",
            "\u001b[0;32m<ipython-input-1-41ff5bc3c4cd>\u001b[0m in \u001b[0;36m<module>\u001b[0;34m\u001b[0m\n\u001b[1;32m     18\u001b[0m \u001b[0;32mimport\u001b[0m \u001b[0mmatplotlib\u001b[0m\u001b[0;34m.\u001b[0m\u001b[0mpyplot\u001b[0m \u001b[0;32mas\u001b[0m \u001b[0mplt\u001b[0m\u001b[0;34m\u001b[0m\u001b[0;34m\u001b[0m\u001b[0m\n\u001b[1;32m     19\u001b[0m \u001b[0;32mimport\u001b[0m \u001b[0mpandas\u001b[0m \u001b[0;32mas\u001b[0m \u001b[0mpd\u001b[0m\u001b[0;34m\u001b[0m\u001b[0;34m\u001b[0m\u001b[0m\n\u001b[0;32m---> 20\u001b[0;31m \u001b[0mtitanic_df\u001b[0m \u001b[0;34m=\u001b[0m \u001b[0mpd\u001b[0m\u001b[0;34m.\u001b[0m\u001b[0mread_csv\u001b[0m\u001b[0;34m(\u001b[0m\u001b[0;34m'train.csv'\u001b[0m\u001b[0;34m)\u001b[0m\u001b[0;34m\u001b[0m\u001b[0;34m\u001b[0m\u001b[0m\n\u001b[0m\u001b[1;32m     21\u001b[0m \u001b[0;34m\u001b[0m\u001b[0m\n\u001b[1;32m     22\u001b[0m \u001b[0;31m# Convert the survived column to strings for easier reading\u001b[0m\u001b[0;34m\u001b[0m\u001b[0;34m\u001b[0m\u001b[0;34m\u001b[0m\u001b[0m\n",
            "\u001b[0;32m/usr/local/lib/python3.7/dist-packages/pandas/util/_decorators.py\u001b[0m in \u001b[0;36mwrapper\u001b[0;34m(*args, **kwargs)\u001b[0m\n\u001b[1;32m    309\u001b[0m                     \u001b[0mstacklevel\u001b[0m\u001b[0;34m=\u001b[0m\u001b[0mstacklevel\u001b[0m\u001b[0;34m,\u001b[0m\u001b[0;34m\u001b[0m\u001b[0;34m\u001b[0m\u001b[0m\n\u001b[1;32m    310\u001b[0m                 )\n\u001b[0;32m--> 311\u001b[0;31m             \u001b[0;32mreturn\u001b[0m \u001b[0mfunc\u001b[0m\u001b[0;34m(\u001b[0m\u001b[0;34m*\u001b[0m\u001b[0margs\u001b[0m\u001b[0;34m,\u001b[0m \u001b[0;34m**\u001b[0m\u001b[0mkwargs\u001b[0m\u001b[0;34m)\u001b[0m\u001b[0;34m\u001b[0m\u001b[0;34m\u001b[0m\u001b[0m\n\u001b[0m\u001b[1;32m    312\u001b[0m \u001b[0;34m\u001b[0m\u001b[0m\n\u001b[1;32m    313\u001b[0m         \u001b[0;32mreturn\u001b[0m \u001b[0mwrapper\u001b[0m\u001b[0;34m\u001b[0m\u001b[0;34m\u001b[0m\u001b[0m\n",
            "\u001b[0;32m/usr/local/lib/python3.7/dist-packages/pandas/io/parsers/readers.py\u001b[0m in \u001b[0;36mread_csv\u001b[0;34m(filepath_or_buffer, sep, delimiter, header, names, index_col, usecols, squeeze, prefix, mangle_dupe_cols, dtype, engine, converters, true_values, false_values, skipinitialspace, skiprows, skipfooter, nrows, na_values, keep_default_na, na_filter, verbose, skip_blank_lines, parse_dates, infer_datetime_format, keep_date_col, date_parser, dayfirst, cache_dates, iterator, chunksize, compression, thousands, decimal, lineterminator, quotechar, quoting, doublequote, escapechar, comment, encoding, encoding_errors, dialect, error_bad_lines, warn_bad_lines, on_bad_lines, delim_whitespace, low_memory, memory_map, float_precision, storage_options)\u001b[0m\n\u001b[1;32m    584\u001b[0m     \u001b[0mkwds\u001b[0m\u001b[0;34m.\u001b[0m\u001b[0mupdate\u001b[0m\u001b[0;34m(\u001b[0m\u001b[0mkwds_defaults\u001b[0m\u001b[0;34m)\u001b[0m\u001b[0;34m\u001b[0m\u001b[0;34m\u001b[0m\u001b[0m\n\u001b[1;32m    585\u001b[0m \u001b[0;34m\u001b[0m\u001b[0m\n\u001b[0;32m--> 586\u001b[0;31m     \u001b[0;32mreturn\u001b[0m \u001b[0m_read\u001b[0m\u001b[0;34m(\u001b[0m\u001b[0mfilepath_or_buffer\u001b[0m\u001b[0;34m,\u001b[0m \u001b[0mkwds\u001b[0m\u001b[0;34m)\u001b[0m\u001b[0;34m\u001b[0m\u001b[0;34m\u001b[0m\u001b[0m\n\u001b[0m\u001b[1;32m    587\u001b[0m \u001b[0;34m\u001b[0m\u001b[0m\n\u001b[1;32m    588\u001b[0m \u001b[0;34m\u001b[0m\u001b[0m\n",
            "\u001b[0;32m/usr/local/lib/python3.7/dist-packages/pandas/io/parsers/readers.py\u001b[0m in \u001b[0;36m_read\u001b[0;34m(filepath_or_buffer, kwds)\u001b[0m\n\u001b[1;32m    480\u001b[0m \u001b[0;34m\u001b[0m\u001b[0m\n\u001b[1;32m    481\u001b[0m     \u001b[0;31m# Create the parser.\u001b[0m\u001b[0;34m\u001b[0m\u001b[0;34m\u001b[0m\u001b[0;34m\u001b[0m\u001b[0m\n\u001b[0;32m--> 482\u001b[0;31m     \u001b[0mparser\u001b[0m \u001b[0;34m=\u001b[0m \u001b[0mTextFileReader\u001b[0m\u001b[0;34m(\u001b[0m\u001b[0mfilepath_or_buffer\u001b[0m\u001b[0;34m,\u001b[0m \u001b[0;34m**\u001b[0m\u001b[0mkwds\u001b[0m\u001b[0;34m)\u001b[0m\u001b[0;34m\u001b[0m\u001b[0;34m\u001b[0m\u001b[0m\n\u001b[0m\u001b[1;32m    483\u001b[0m \u001b[0;34m\u001b[0m\u001b[0m\n\u001b[1;32m    484\u001b[0m     \u001b[0;32mif\u001b[0m \u001b[0mchunksize\u001b[0m \u001b[0;32mor\u001b[0m \u001b[0miterator\u001b[0m\u001b[0;34m:\u001b[0m\u001b[0;34m\u001b[0m\u001b[0;34m\u001b[0m\u001b[0m\n",
            "\u001b[0;32m/usr/local/lib/python3.7/dist-packages/pandas/io/parsers/readers.py\u001b[0m in \u001b[0;36m__init__\u001b[0;34m(self, f, engine, **kwds)\u001b[0m\n\u001b[1;32m    809\u001b[0m             \u001b[0mself\u001b[0m\u001b[0;34m.\u001b[0m\u001b[0moptions\u001b[0m\u001b[0;34m[\u001b[0m\u001b[0;34m\"has_index_names\"\u001b[0m\u001b[0;34m]\u001b[0m \u001b[0;34m=\u001b[0m \u001b[0mkwds\u001b[0m\u001b[0;34m[\u001b[0m\u001b[0;34m\"has_index_names\"\u001b[0m\u001b[0;34m]\u001b[0m\u001b[0;34m\u001b[0m\u001b[0;34m\u001b[0m\u001b[0m\n\u001b[1;32m    810\u001b[0m \u001b[0;34m\u001b[0m\u001b[0m\n\u001b[0;32m--> 811\u001b[0;31m         \u001b[0mself\u001b[0m\u001b[0;34m.\u001b[0m\u001b[0m_engine\u001b[0m \u001b[0;34m=\u001b[0m \u001b[0mself\u001b[0m\u001b[0;34m.\u001b[0m\u001b[0m_make_engine\u001b[0m\u001b[0;34m(\u001b[0m\u001b[0mself\u001b[0m\u001b[0;34m.\u001b[0m\u001b[0mengine\u001b[0m\u001b[0;34m)\u001b[0m\u001b[0;34m\u001b[0m\u001b[0;34m\u001b[0m\u001b[0m\n\u001b[0m\u001b[1;32m    812\u001b[0m \u001b[0;34m\u001b[0m\u001b[0m\n\u001b[1;32m    813\u001b[0m     \u001b[0;32mdef\u001b[0m \u001b[0mclose\u001b[0m\u001b[0;34m(\u001b[0m\u001b[0mself\u001b[0m\u001b[0;34m)\u001b[0m\u001b[0;34m:\u001b[0m\u001b[0;34m\u001b[0m\u001b[0;34m\u001b[0m\u001b[0m\n",
            "\u001b[0;32m/usr/local/lib/python3.7/dist-packages/pandas/io/parsers/readers.py\u001b[0m in \u001b[0;36m_make_engine\u001b[0;34m(self, engine)\u001b[0m\n\u001b[1;32m   1038\u001b[0m             )\n\u001b[1;32m   1039\u001b[0m         \u001b[0;31m# error: Too many arguments for \"ParserBase\"\u001b[0m\u001b[0;34m\u001b[0m\u001b[0;34m\u001b[0m\u001b[0;34m\u001b[0m\u001b[0m\n\u001b[0;32m-> 1040\u001b[0;31m         \u001b[0;32mreturn\u001b[0m \u001b[0mmapping\u001b[0m\u001b[0;34m[\u001b[0m\u001b[0mengine\u001b[0m\u001b[0;34m]\u001b[0m\u001b[0;34m(\u001b[0m\u001b[0mself\u001b[0m\u001b[0;34m.\u001b[0m\u001b[0mf\u001b[0m\u001b[0;34m,\u001b[0m \u001b[0;34m**\u001b[0m\u001b[0mself\u001b[0m\u001b[0;34m.\u001b[0m\u001b[0moptions\u001b[0m\u001b[0;34m)\u001b[0m  \u001b[0;31m# type: ignore[call-arg]\u001b[0m\u001b[0;34m\u001b[0m\u001b[0;34m\u001b[0m\u001b[0m\n\u001b[0m\u001b[1;32m   1041\u001b[0m \u001b[0;34m\u001b[0m\u001b[0m\n\u001b[1;32m   1042\u001b[0m     \u001b[0;32mdef\u001b[0m \u001b[0m_failover_to_python\u001b[0m\u001b[0;34m(\u001b[0m\u001b[0mself\u001b[0m\u001b[0;34m)\u001b[0m\u001b[0;34m:\u001b[0m\u001b[0;34m\u001b[0m\u001b[0;34m\u001b[0m\u001b[0m\n",
            "\u001b[0;32m/usr/local/lib/python3.7/dist-packages/pandas/io/parsers/c_parser_wrapper.py\u001b[0m in \u001b[0;36m__init__\u001b[0;34m(self, src, **kwds)\u001b[0m\n\u001b[1;32m     49\u001b[0m \u001b[0;34m\u001b[0m\u001b[0m\n\u001b[1;32m     50\u001b[0m         \u001b[0;31m# open handles\u001b[0m\u001b[0;34m\u001b[0m\u001b[0;34m\u001b[0m\u001b[0;34m\u001b[0m\u001b[0m\n\u001b[0;32m---> 51\u001b[0;31m         \u001b[0mself\u001b[0m\u001b[0;34m.\u001b[0m\u001b[0m_open_handles\u001b[0m\u001b[0;34m(\u001b[0m\u001b[0msrc\u001b[0m\u001b[0;34m,\u001b[0m \u001b[0mkwds\u001b[0m\u001b[0;34m)\u001b[0m\u001b[0;34m\u001b[0m\u001b[0;34m\u001b[0m\u001b[0m\n\u001b[0m\u001b[1;32m     52\u001b[0m         \u001b[0;32massert\u001b[0m \u001b[0mself\u001b[0m\u001b[0;34m.\u001b[0m\u001b[0mhandles\u001b[0m \u001b[0;32mis\u001b[0m \u001b[0;32mnot\u001b[0m \u001b[0;32mNone\u001b[0m\u001b[0;34m\u001b[0m\u001b[0;34m\u001b[0m\u001b[0m\n\u001b[1;32m     53\u001b[0m \u001b[0;34m\u001b[0m\u001b[0m\n",
            "\u001b[0;32m/usr/local/lib/python3.7/dist-packages/pandas/io/parsers/base_parser.py\u001b[0m in \u001b[0;36m_open_handles\u001b[0;34m(self, src, kwds)\u001b[0m\n\u001b[1;32m    227\u001b[0m             \u001b[0mmemory_map\u001b[0m\u001b[0;34m=\u001b[0m\u001b[0mkwds\u001b[0m\u001b[0;34m.\u001b[0m\u001b[0mget\u001b[0m\u001b[0;34m(\u001b[0m\u001b[0;34m\"memory_map\"\u001b[0m\u001b[0;34m,\u001b[0m \u001b[0;32mFalse\u001b[0m\u001b[0;34m)\u001b[0m\u001b[0;34m,\u001b[0m\u001b[0;34m\u001b[0m\u001b[0;34m\u001b[0m\u001b[0m\n\u001b[1;32m    228\u001b[0m             \u001b[0mstorage_options\u001b[0m\u001b[0;34m=\u001b[0m\u001b[0mkwds\u001b[0m\u001b[0;34m.\u001b[0m\u001b[0mget\u001b[0m\u001b[0;34m(\u001b[0m\u001b[0;34m\"storage_options\"\u001b[0m\u001b[0;34m,\u001b[0m \u001b[0;32mNone\u001b[0m\u001b[0;34m)\u001b[0m\u001b[0;34m,\u001b[0m\u001b[0;34m\u001b[0m\u001b[0;34m\u001b[0m\u001b[0m\n\u001b[0;32m--> 229\u001b[0;31m             \u001b[0merrors\u001b[0m\u001b[0;34m=\u001b[0m\u001b[0mkwds\u001b[0m\u001b[0;34m.\u001b[0m\u001b[0mget\u001b[0m\u001b[0;34m(\u001b[0m\u001b[0;34m\"encoding_errors\"\u001b[0m\u001b[0;34m,\u001b[0m \u001b[0;34m\"strict\"\u001b[0m\u001b[0;34m)\u001b[0m\u001b[0;34m,\u001b[0m\u001b[0;34m\u001b[0m\u001b[0;34m\u001b[0m\u001b[0m\n\u001b[0m\u001b[1;32m    230\u001b[0m         )\n\u001b[1;32m    231\u001b[0m \u001b[0;34m\u001b[0m\u001b[0m\n",
            "\u001b[0;32m/usr/local/lib/python3.7/dist-packages/pandas/io/common.py\u001b[0m in \u001b[0;36mget_handle\u001b[0;34m(path_or_buf, mode, encoding, compression, memory_map, is_text, errors, storage_options)\u001b[0m\n\u001b[1;32m    705\u001b[0m                 \u001b[0mencoding\u001b[0m\u001b[0;34m=\u001b[0m\u001b[0mioargs\u001b[0m\u001b[0;34m.\u001b[0m\u001b[0mencoding\u001b[0m\u001b[0;34m,\u001b[0m\u001b[0;34m\u001b[0m\u001b[0;34m\u001b[0m\u001b[0m\n\u001b[1;32m    706\u001b[0m                 \u001b[0merrors\u001b[0m\u001b[0;34m=\u001b[0m\u001b[0merrors\u001b[0m\u001b[0;34m,\u001b[0m\u001b[0;34m\u001b[0m\u001b[0;34m\u001b[0m\u001b[0m\n\u001b[0;32m--> 707\u001b[0;31m                 \u001b[0mnewline\u001b[0m\u001b[0;34m=\u001b[0m\u001b[0;34m\"\"\u001b[0m\u001b[0;34m,\u001b[0m\u001b[0;34m\u001b[0m\u001b[0;34m\u001b[0m\u001b[0m\n\u001b[0m\u001b[1;32m    708\u001b[0m             )\n\u001b[1;32m    709\u001b[0m         \u001b[0;32melse\u001b[0m\u001b[0;34m:\u001b[0m\u001b[0;34m\u001b[0m\u001b[0;34m\u001b[0m\u001b[0m\n",
            "\u001b[0;31mFileNotFoundError\u001b[0m: [Errno 2] No such file or directory: 'train.csv'"
          ]
        }
      ],
      "source": [
        "\"\"\"Python for Data Science - Perform Data Science on Titanic Dataset\n",
        "a)Load the Titanic dataset into one of the data structures (NumPy or Pandas).\n",
        "b)Display header rows and description of the loaded dataset.\n",
        "c) Remove unnecessary features (E.g. drop unwanted columns) from the dataset.\n",
        "d) Manipulate data by replacing empty column values with a default value.\n",
        "e) Perform the following visualizations on the loaded dataset:\n",
        "     i)   Passenger status (Survived/Died) against Passenger Class\n",
        "     ii)  Survival rate of male vs female\n",
        "     iii) No of passengers in each age group\n",
        "\n",
        "\n",
        "#numpy - Deals multi-dimensional arrays and matrices\n",
        "#seaborn - Deals with data visualization\n",
        "#matplotlib - Plotting; pyplot-interactive plotting\n",
        "#pandas - data structures and data analysis tools\"\"\"\n",
        "#import numpy as np \n",
        "import seaborn as sns\n",
        "import matplotlib.pyplot as plt\n",
        "import pandas as pd\n",
        "titanic_df = pd.read_csv('train.csv')\n",
        "\n",
        "# Convert the survived column to strings for easier reading\n",
        "titanic_df ['Survived'] = titanic_df ['Survived'].map({\n",
        "    0: 'Died',\n",
        "    1: 'Survived'\n",
        "})\n",
        "\n",
        "print(\"======Data Headers Before Dropping Columns=======\")\n",
        "print(titanic_df.head(5))\n",
        "\n",
        "print(\"**** \\n\\nDATA TRANSFORMATION *****\\n\")\n",
        "\n",
        "print(\"======Data Headers After Dropping Columns - First Way=======\")\n",
        "titanic_df.drop(['Parch','PassengerId','Name','Ticket'], axis=1, inplace=True)\n",
        "#axis =1 in drop method shows you are dropping a column\n",
        "#inplace=True means you are editing original dataframe\n",
        "print(titanic_df.head(5))\n",
        "print(\"======Data Headers After Dropping Columns - Second Way =======\")\n",
        "titanic_df = titanic_df.drop(['SibSp','Fare'], axis=1)\n",
        "print(titanic_df.head(5))\n",
        "\n",
        "\n",
        "# Convert the Class column to strings for easier reading\n",
        "titanic_df ['Pclass'] = titanic_df ['Pclass'].map({\n",
        "    1: 'Luxury Class',\n",
        "    2: 'Economy Class',\n",
        "    3: 'Lower Class'\n",
        "})\n",
        "\n",
        "print(\"======Data Headers After Transforming Class Column =======\")\n",
        "print(titanic_df.head(5))\n",
        "\n",
        "titanic_df[\"Embarked\"] = titanic_df[\"Embarked\"].fillna(\"S\")\n",
        "print(\"======Data Headers After Filling with default value for Embarked Column =======\")\n",
        "print(titanic_df.head(5))\n",
        "\n",
        "# Convert the Embarked column to strings for easier reading\n",
        "titanic_df ['Embarked'] = titanic_df ['Embarked'].map({\n",
        "    'C':'Cherbourg',\n",
        "    'Q':'Queenstown',\n",
        "    'S':'Southampton'\n",
        "})\n",
        "print(\"======Data Headers After Transforming Embarked Column =======\")\n",
        "print(titanic_df.head(5))\n",
        "\n",
        "print(\"\\n\\n\\n**** DATA VISUALIZATIONS****\\n\\n\")\n",
        "print(\"Visualization #1 : Survival Rate Based on Passenger Sitting Class\")\n",
        "ax = sns.countplot(x = 'Pclass', hue = 'Survived', palette = 'Set1',data = titanic_df)\n",
        "ax.set(title = 'Passenger status (Survived/Died) against Passenger Class',\n",
        "       xlabel = 'Passenger Class', ylabel = 'Total')\n",
        "plt.show()   \n",
        "\n",
        "#crosstab - Cross tabulation of two or more factors\n",
        "print(\"Visualization #2 : Survival Rate Based on Gender\")\n",
        "print(pd.crosstab(titanic_df[\"Sex\"],titanic_df.Survived))\n",
        "ax = sns.countplot(x = 'Sex', hue = 'Survived', palette = 'Set2', data = titanic_df)\n",
        "ax.set(title = 'Total Survivors According to Sex', xlabel = 'Sex', ylabel='Total')\n",
        "plt.show()\n",
        "\n",
        "print(\"Visualization #3 : Survival Rate Based on Passenger Age Group\")\n",
        "# We look at Age column and set Intevals on the ages and the map them to their categories as\n",
        "# (Children, Teen, Adult, Old)\n",
        "interval = (0,18,35,60,120)\n",
        "categories = ['Children','Teens','Adult', 'Old']\n",
        "#cut - Segment and sort data values into bins\n",
        "titanic_df['Age_cats'] = pd.cut(titanic_df.Age, interval, labels = categories)\n",
        "\n",
        "ax = sns.countplot(x = 'Age_cats',  data = titanic_df, hue = 'Survived', palette = 'Set3')\n",
        "\n",
        "ax.set(xlabel='Age Categorical', ylabel='Total',\n",
        "       title=\"Age Categorical Survival Distribution\")\n",
        "plt.show()\n",
        "\n",
        "print(\"Visualization #4 : Survival Rate Based on Passenger Embarked Port\")\n",
        "print(pd.crosstab(titanic_df['Embarked'], titanic_df.Survived))\n",
        "ax = sns.countplot(x = 'Embarked', hue = 'Survived', palette = 'Set1', data = titanic_df)\n",
        "ax.set(title = 'Survival distribution according to Embarking place')\n",
        "plt.show()\n"
      ]
    },
    {
      "cell_type": "code",
      "source": [
        "! unzip titanic\\(1\\).zip"
      ],
      "metadata": {
        "colab": {
          "base_uri": "https://localhost:8080/"
        },
        "id": "1giwIC9F42td",
        "outputId": "ca213227-81f3-447e-adab-b5fac387db48"
      },
      "execution_count": 2,
      "outputs": [
        {
          "output_type": "stream",
          "name": "stdout",
          "text": [
            "Archive:  titanic(1).zip\n",
            "  inflating: gender_submission.csv   \n",
            "  inflating: test.csv                \n",
            "  inflating: train.csv               \n"
          ]
        }
      ]
    },
    {
      "cell_type": "code",
      "source": [],
      "metadata": {
        "id": "mDBnVf-L4_rN"
      },
      "execution_count": null,
      "outputs": []
    },
    {
      "cell_type": "code",
      "execution_count": 3,
      "metadata": {
        "colab": {
          "base_uri": "https://localhost:8080/",
          "height": 1000
        },
        "outputId": "87b7df53-fc25-41bf-ad4a-fcd2fae2d5ba",
        "id": "PVDPZfd45AJg"
      },
      "outputs": [
        {
          "output_type": "stream",
          "name": "stdout",
          "text": [
            "======Data Headers Before Dropping Columns=======\n",
            "   PassengerId  Survived  Pclass  \\\n",
            "0            1      Died       3   \n",
            "1            2  Survived       1   \n",
            "2            3  Survived       3   \n",
            "3            4  Survived       1   \n",
            "4            5      Died       3   \n",
            "\n",
            "                                                Name     Sex   Age  SibSp  \\\n",
            "0                            Braund, Mr. Owen Harris    male  22.0      1   \n",
            "1  Cumings, Mrs. John Bradley (Florence Briggs Th...  female  38.0      1   \n",
            "2                             Heikkinen, Miss. Laina  female  26.0      0   \n",
            "3       Futrelle, Mrs. Jacques Heath (Lily May Peel)  female  35.0      1   \n",
            "4                           Allen, Mr. William Henry    male  35.0      0   \n",
            "\n",
            "   Parch            Ticket     Fare Cabin Embarked  \n",
            "0      0         A/5 21171   7.2500   NaN        S  \n",
            "1      0          PC 17599  71.2833   C85        C  \n",
            "2      0  STON/O2. 3101282   7.9250   NaN        S  \n",
            "3      0            113803  53.1000  C123        S  \n",
            "4      0            373450   8.0500   NaN        S  \n",
            "**** \n",
            "\n",
            "DATA TRANSFORMATION *****\n",
            "\n",
            "======Data Headers After Dropping Columns - First Way=======\n",
            "   Survived  Pclass     Sex   Age  SibSp     Fare Cabin Embarked\n",
            "0      Died       3    male  22.0      1   7.2500   NaN        S\n",
            "1  Survived       1  female  38.0      1  71.2833   C85        C\n",
            "2  Survived       3  female  26.0      0   7.9250   NaN        S\n",
            "3  Survived       1  female  35.0      1  53.1000  C123        S\n",
            "4      Died       3    male  35.0      0   8.0500   NaN        S\n",
            "======Data Headers After Dropping Columns - Second Way =======\n",
            "   Survived  Pclass     Sex   Age Cabin Embarked\n",
            "0      Died       3    male  22.0   NaN        S\n",
            "1  Survived       1  female  38.0   C85        C\n",
            "2  Survived       3  female  26.0   NaN        S\n",
            "3  Survived       1  female  35.0  C123        S\n",
            "4      Died       3    male  35.0   NaN        S\n",
            "======Data Headers After Transforming Class Column =======\n",
            "   Survived        Pclass     Sex   Age Cabin Embarked\n",
            "0      Died   Lower Class    male  22.0   NaN        S\n",
            "1  Survived  Luxury Class  female  38.0   C85        C\n",
            "2  Survived   Lower Class  female  26.0   NaN        S\n",
            "3  Survived  Luxury Class  female  35.0  C123        S\n",
            "4      Died   Lower Class    male  35.0   NaN        S\n",
            "======Data Headers After Filling with default value for Embarked Column =======\n",
            "   Survived        Pclass     Sex   Age Cabin Embarked\n",
            "0      Died   Lower Class    male  22.0   NaN        S\n",
            "1  Survived  Luxury Class  female  38.0   C85        C\n",
            "2  Survived   Lower Class  female  26.0   NaN        S\n",
            "3  Survived  Luxury Class  female  35.0  C123        S\n",
            "4      Died   Lower Class    male  35.0   NaN        S\n",
            "======Data Headers After Transforming Embarked Column =======\n",
            "   Survived        Pclass     Sex   Age Cabin     Embarked\n",
            "0      Died   Lower Class    male  22.0   NaN  Southampton\n",
            "1  Survived  Luxury Class  female  38.0   C85    Cherbourg\n",
            "2  Survived   Lower Class  female  26.0   NaN  Southampton\n",
            "3  Survived  Luxury Class  female  35.0  C123  Southampton\n",
            "4      Died   Lower Class    male  35.0   NaN  Southampton\n",
            "\n",
            "\n",
            "\n",
            "**** DATA VISUALIZATIONS****\n",
            "\n",
            "\n",
            "Visualization #1 : Survival Rate Based on Passenger Sitting Class\n"
          ]
        },
        {
          "output_type": "display_data",
          "data": {
            "text/plain": [
              "<Figure size 432x288 with 1 Axes>"
            ],
            "image/png": "[encoded data removed]"
          },
          "metadata": {
            "needs_background": "light"
          }
        },
        {
          "output_type": "stream",
          "name": "stdout",
          "text": [
            "Visualization #2 : Survival Rate Based on Gender\n",
            "Survived  Died  Survived\n",
            "Sex                     \n",
            "female      81       233\n",
            "male       468       109\n"
          ]
        },
        {
          "output_type": "display_data",
          "data": {
            "text/plain": [
              "<Figure size 432x288 with 1 Axes>"
            ],
            "image/png": "[encoded data removed]"
          },
          "metadata": {
            "needs_background": "light"
          }
        },
        {
          "output_type": "stream",
          "name": "stdout",
          "text": [
            "Visualization #3 : Survival Rate Based on Passenger Age Group\n"
          ]
        },
        {
          "output_type": "display_data",
          "data": {
            "text/plain": [
              "<Figure size 432x288 with 1 Axes>"
            ],
            "image/png": "[encoded data removed]"
          },
          "metadata": {
            "needs_background": "light"
          }
        },
        {
          "output_type": "stream",
          "name": "stdout",
          "text": [
            "Visualization #4 : Survival Rate Based on Passenger Embarked Port\n",
            "Survived     Died  Survived\n",
            "Embarked                   \n",
            "Cherbourg      75        93\n",
            "Queenstown     47        30\n",
            "Southampton   427       219\n"
          ]
        },
        {
          "output_type": "display_data",
          "data": {
            "text/plain": [
              "<Figure size 432x288 with 1 Axes>"
            ],
            "image/png": "[encoded data removed]"
          },
          "metadata": {
            "needs_background": "light"
          }
        }
      ],
      "source": [
        "\"\"\"Python for Data Science - Perform Data Science on Titanic Dataset\n",
        "a)Load the Titanic dataset into one of the data structures (NumPy or Pandas).\n",
        "b)Display header rows and description of the loaded dataset.\n",
        "c) Remove unnecessary features (E.g. drop unwanted columns) from the dataset.\n",
        "d) Manipulate data by replacing empty column values with a default value.\n",
        "e) Perform the following visualizations on the loaded dataset:\n",
        "     i)   Passenger status (Survived/Died) against Passenger Class\n",
        "     ii)  Survival rate of male vs female\n",
        "     iii) No of passengers in each age group\n",
        "\n",
        "\n",
        "#numpy - Deals multi-dimensional arrays and matrices\n",
        "#seaborn - Deals with data visualization\n",
        "#matplotlib - Plotting; pyplot-interactive plotting\n",
        "#pandas - data structures and data analysis tools\"\"\"\n",
        "#import numpy as np \n",
        "import seaborn as sns\n",
        "import matplotlib.pyplot as plt\n",
        "import pandas as pd\n",
        "titanic_df = pd.read_csv('train.csv')\n",
        "\n",
        "# Convert the survived column to strings for easier reading\n",
        "titanic_df ['Survived'] = titanic_df ['Survived'].map({\n",
        "    0: 'Died',\n",
        "    1: 'Survived'\n",
        "})\n",
        "\n",
        "print(\"======Data Headers Before Dropping Columns=======\")\n",
        "print(titanic_df.head(5))\n",
        "\n",
        "print(\"**** \\n\\nDATA TRANSFORMATION *****\\n\")\n",
        "\n",
        "print(\"======Data Headers After Dropping Columns - First Way=======\")\n",
        "titanic_df.drop(['Parch','PassengerId','Name','Ticket'], axis=1, inplace=True)\n",
        "#axis =1 in drop method shows you are dropping a column\n",
        "#inplace=True means you are editing original dataframe\n",
        "print(titanic_df.head(5))\n",
        "print(\"======Data Headers After Dropping Columns - Second Way =======\")\n",
        "titanic_df = titanic_df.drop(['SibSp','Fare'], axis=1)\n",
        "print(titanic_df.head(5))\n",
        "\n",
        "\n",
        "# Convert the Class column to strings for easier reading\n",
        "titanic_df ['Pclass'] = titanic_df ['Pclass'].map({\n",
        "    1: 'Luxury Class',\n",
        "    2: 'Economy Class',\n",
        "    3: 'Lower Class'\n",
        "})\n",
        "\n",
        "print(\"======Data Headers After Transforming Class Column =======\")\n",
        "print(titanic_df.head(5))\n",
        "\n",
        "titanic_df[\"Embarked\"] = titanic_df[\"Embarked\"].fillna(\"S\")\n",
        "print(\"======Data Headers After Filling with default value for Embarked Column =======\")\n",
        "print(titanic_df.head(5))\n",
        "\n",
        "# Convert the Embarked column to strings for easier reading\n",
        "titanic_df ['Embarked'] = titanic_df ['Embarked'].map({\n",
        "    'C':'Cherbourg',\n",
        "    'Q':'Queenstown',\n",
        "    'S':'Southampton'\n",
        "})\n",
        "print(\"======Data Headers After Transforming Embarked Column =======\")\n",
        "print(titanic_df.head(5))\n",
        "\n",
        "print(\"\\n\\n\\n**** DATA VISUALIZATIONS****\\n\\n\")\n",
        "print(\"Visualization #1 : Survival Rate Based on Passenger Sitting Class\")\n",
        "ax = sns.countplot(x = 'Pclass', hue = 'Survived', palette = 'Set1',data = titanic_df)\n",
        "ax.set(title = 'Passenger status (Survived/Died) against Passenger Class',\n",
        "       xlabel = 'Passenger Class', ylabel = 'Total')\n",
        "plt.show()   \n",
        "\n",
        "#crosstab - Cross tabulation of two or more factors\n",
        "print(\"Visualization #2 : Survival Rate Based on Gender\")\n",
        "print(pd.crosstab(titanic_df[\"Sex\"],titanic_df.Survived))\n",
        "ax = sns.countplot(x = 'Sex', hue = 'Survived', palette = 'Set2', data = titanic_df)\n",
        "ax.set(title = 'Total Survivors According to Sex', xlabel = 'Sex', ylabel='Total')\n",
        "plt.show()\n",
        "\n",
        "print(\"Visualization #3 : Survival Rate Based on Passenger Age Group\")\n",
        "# We look at Age column and set Intevals on the ages and the map them to their categories as\n",
        "# (Children, Teen, Adult, Old)\n",
        "interval = (0,18,35,60,120)\n",
        "categories = ['Children','Teens','Adult', 'Old']\n",
        "#cut - Segment and sort data values into bins\n",
        "titanic_df['Age_cats'] = pd.cut(titanic_df.Age, interval, labels = categories)\n",
        "\n",
        "ax = sns.countplot(x = 'Age_cats',  data = titanic_df, hue = 'Survived', palette = 'Set3')\n",
        "\n",
        "ax.set(xlabel='Age Categorical', ylabel='Total',\n",
        "       title=\"Age Categorical Survival Distribution\")\n",
        "plt.show()\n",
        "\n",
        "print(\"Visualization #4 : Survival Rate Based on Passenger Embarked Port\")\n",
        "print(pd.crosstab(titanic_df['Embarked'], titanic_df.Survived))\n",
        "ax = sns.countplot(x = 'Embarked', hue = 'Survived', palette = 'Set1', data = titanic_df)\n",
        "ax.set(title = 'Survival distribution according to Embarking place')\n",
        "plt.show()\n"
      ]
    }
  ]
}