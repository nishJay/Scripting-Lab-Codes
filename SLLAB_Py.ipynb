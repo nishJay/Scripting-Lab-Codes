{
  "nbformat": 4,
  "nbformat_minor": 0,
  "metadata": {
    "colab": {
      "provenance": [],
      "collapsed_sections": [],
      "authorship_tag": "ABX9TyO7URVg+lviKvPxV2rwB/34",
      "include_colab_link": true
    },
    "kernelspec": {
      "name": "python3",
      "display_name": "Python 3"
    },
    "language_info": {
      "name": "python"
    }
  },
  "cells": [
    {
      "cell_type": "markdown",
      "metadata": {
        "id": "view-in-github",
        "colab_type": "text"
      },
      "source": [
        "<a href=\"https://colab.research.google.com/github/nishJay/Scripting-Lab-Codes/blob/main/SLLAB_Py.ipynb\" target=\"_parent\"><img src=\"https://colab.research.google.com/assets/colab-badge.svg\" alt=\"Open In Colab\"/></a>"
      ]
    },
    {
      "cell_type": "markdown",
      "source": [
        "Create a Python class called ‘Student’ having ‘name’, ‘age’ as attribute along with a \n",
        "list having the marks obtained for three subjects. \n",
        "\n",
        "• Create a constructor to initialize two objects of this class. \n",
        "\n",
        "• Create a member function called ‘display’ printing the details of a specific object \n",
        "\n",
        "• Ask user to enter the values for an object through an ‘accept’ member function. \n",
        "\n",
        "• Display these details."
      ],
      "metadata": {
        "id": "8hSypaPMWpoc"
      }
    },
    {
      "cell_type": "code",
      "execution_count": 3,
      "metadata": {
        "colab": {
          "base_uri": "https://localhost:8080/"
        },
        "id": "OXjlICbyV0kp",
        "outputId": "efae31db-0caa-45be-e07e-51a321d96336"
      },
      "outputs": [
        {
          "output_type": "stream",
          "name": "stdout",
          "text": [
            "Enter name\n",
            "jj\n",
            "Enter age\n",
            "20\n",
            "Enter marks\n",
            "Subject 1\n",
            "45\n",
            "Subject 2\n",
            "45\n",
            "Subject 3\n",
            "45\n",
            "Enter name\n",
            "jay\n",
            "Enter age\n",
            "21\n",
            "Enter marks\n",
            "Subject 1\n",
            "45\n",
            "Subject 2\n",
            "45\n",
            "Subject 3\n",
            "45\n",
            "The student jj aged 20 has obtained [45, 45, 45]\n",
            "The student jay aged 21 has obtained [45, 45, 45]\n"
          ]
        }
      ],
      "source": [
        "class student:#Class created\n",
        "    marks = []\n",
        "    name = ''\n",
        "    age = 0 #Class attributes\n",
        "\n",
        "    def __init__(self):#Constructor to initialize\n",
        "      self.name = \"Def\"\n",
        "      self.age = 20 \n",
        "      self.marks = []\n",
        "      \n",
        "\n",
        "    def display(self):#Function to print details\n",
        "        print(\"The student {} aged {} has obtained {}\".format(self.name, self.age, self.marks))\n",
        "\n",
        "    def accept(self):#Function to accept values\n",
        "        self.name = input(\"Enter student name\\n\")\n",
        "        self.age = int(input(\"Enter student age\\n\"))\n",
        "        print(\"Enter marks\")\n",
        "        for i in range(3):\n",
        "            self.marks.append(int(input(\"Subject \"+str(i+1)+\"\\n\")))\n",
        "\n",
        "ob1 = student()\n",
        "ob2 = student() #Two objects of class student created\n",
        "\n",
        "ob1.accept()\n",
        "ob2.accept()#Accepting values\n",
        "ob1.display()\n",
        "ob2.display()#Displaying values\n"
      ]
    },
    {
      "cell_type": "markdown",
      "source": [
        "Write a python program to create a class ‘Rectangle’. This class should include a \n",
        "constructor to initialize the dimensions. Include a function in the class to compute the area of \n",
        "the rectangle. Create objects of the class and print area."
      ],
      "metadata": {
        "id": "_kdVz-OJWoSU"
      }
    },
    {
      "cell_type": "code",
      "source": [
        "class Rectangle:\n",
        "     def __init__(self):#Constructor to initialize the dimensions.\n",
        "        self.length = int(input(\"Enter length\\n\"))\n",
        "        self.breadth = int(input(\"Enter breadth\\n\"))\n",
        "\n",
        "     def area(self):#Function in the class to compute the area of the rectangle.\n",
        "        return self.breadth * self.length\n",
        "obj = Rectangle()#Object of class created\n",
        "print(\"Area of the rectangle is {}\".format(obj.area()))#Displaying area"
      ],
      "metadata": {
        "colab": {
          "base_uri": "https://localhost:8080/"
        },
        "id": "UbKf9Y35dGcy",
        "outputId": "bc099fb1-b899-444e-9cde-3ca107a6696f"
      },
      "execution_count": 5,
      "outputs": [
        {
          "output_type": "stream",
          "name": "stdout",
          "text": [
            "Enter length\n",
            "25\n",
            "Enter breadth\n",
            "35\n",
            "The area of the rectangle is 875\n"
          ]
        }
      ]
    },
    {
      "cell_type": "markdown",
      "source": [
        "Write Python code to do the following:\n",
        "\n",
        "i. Create list with inputs from user\n",
        "\n",
        "ii. Determine minimum and maximum elements in the list\n",
        "\n",
        "iii. Insert new element into the list\n",
        "\n",
        "iv. Delete an element from the list\n",
        "\n",
        "v. Determine if an element is present in the list."
      ],
      "metadata": {
        "id": "w2uNqbpcnjfN"
      }
    },
    {
      "cell_type": "code",
      "source": [
        "\n",
        "li = [] #List created\n",
        "print(\"Enter the inputs\")\n",
        "for i in range(5):\n",
        "    li.append(int(input()))#Inputs from user\n",
        "print(li)\n",
        "# Minimum and maximum elements in the list\n",
        "print(\"Maximum number in the list is {}\".format(max(li)))\n",
        "print(\"Minimum number in the list is {}\".format(min(li)))\n",
        "# Insertion of new element into the list\n",
        "ne = int(input(\"Enter the new element to be inserted\\n\"))\n",
        "li.append(ne)\n",
        "print(\"The updated list is {}\".format(li))\n",
        "#Deletion of an element based on index\n",
        "ind = int(input(\"Enter the index of element to be removed\\n\"))\n",
        "del li[ind]\n",
        "print(\"The updated list is {}\".format(li))\n",
        "#Determining if an element is present in the list\n",
        "re = int(input(\"Enter the element to be searched\\n\"))\n",
        "x = \"Found\" if re in li else \"Not Found\"\n",
        "print(\"Element {}\".format(x))"
      ],
      "metadata": {
        "colab": {
          "base_uri": "https://localhost:8080/"
        },
        "id": "3CDtnTCYnhV5",
        "outputId": "f34ab73e-1235-4fca-f2e3-3d127e97ffa1"
      },
      "execution_count": 18,
      "outputs": [
        {
          "output_type": "stream",
          "name": "stdout",
          "text": [
            "Enter the inputs\n",
            "2\n",
            "4\n",
            "5\n",
            "6\n",
            "7\n",
            "[2, 4, 5, 6, 7]\n",
            "Maximum number in the list is 7\n",
            "Minimum number in the list is 2\n",
            "Enter the new element to be inserted\n",
            "9\n",
            "The updated list is [2, 4, 5, 6, 7, 9]\n",
            "Enter the index of element to be removed\n",
            "0\n",
            "The updated list is [4, 5, 6, 7, 9]\n",
            "Enter the element to be searched\n",
            "4\n",
            "Element Found\n"
          ]
        }
      ]
    },
    {
      "cell_type": "markdown",
      "source": [],
      "metadata": {
        "id": "4MDJyu2Unh6W"
      }
    },
    {
      "cell_type": "code",
      "source": [
        "li = []#List to store history\n",
        "#Conersion logic\n",
        "def ctof(f):\n",
        "    return str(f) + \" C\", str(f * 1.8 + 32) + \" F\"\n",
        "def ftoc(f):\n",
        "    return str(f) + \" F\", str((f - 32) / 1.8) + \" C\"\n",
        "def ctok(f):\n",
        "    return str(f) + \" C\", str(f + 273.15) + \" K\"\n",
        "def ktoc(f):\n",
        "    return str(f) + \" K\", str(f - 273.15) + \" C\"\n",
        "def ftok(f):\n",
        "    return str(f) + \" F\", str(273.5) + ftoc(f) + \" K\"\n",
        "def ktof(f):\n",
        "    return str(f) + \" K\", str(1.8*(f + 273.15) + 32) + \" F\"\n",
        "\n",
        "while True:#MenuDriven\n",
        "    ch = int(input(\n",
        "        \"Enter\\n1. To convert Celsius to Fahrenheit\\n2.To convert Fahrenheit to Celsius\"\n",
        "        +\"\\n3.To convert Celsius to Kelvin\\n4.To convert Kelvin to Celsius\\n\"+\n",
        "        \"5.To convert Fahrenheit to Kelvin\\n6.To convert Kelvin to Fahrenheit\\n7.To print history\\n8.To exit\\n\"))\n",
        "    if ch == 1:\n",
        "        li.append(ctof(float(input(\"Enter value\\n\"))))\n",
        "    elif ch == 2:\n",
        "        li.append(ftoc(float(input(\"Enter value\\n\"))))\n",
        "    elif ch == 3:\n",
        "        li.append(ctok(float(input(\"Enter value\\n\"))))\n",
        "    elif ch == 4:\n",
        "        li.append(ktoc(float(input(\"Enter value\\n\"))))        \n",
        "    elif ch == 5:\n",
        "        li.append(ftok(float(input(\"Enter value\\n\"))))\n",
        "    elif ch == 6:\n",
        "        li.append(ktof(float(input(\"Enter value\\n\"))))\n",
        "    elif ch == 7:#Sorting based on choice\n",
        "        c=int(input(\"Enter\\n1.Order by from-value\\n2.Order by to-value\\n\"))\n",
        "        if c==1:\n",
        "           print(*sorted(li,key=lambda x:float(x[0].split()[0])),sep=\"\\n\")\n",
        "        elif c==2:\n",
        "          print(*sorted(li,key=lambda x:float(x[1].split()[0])),sep=\"\\n\")\n",
        "    elif ch == 8:\n",
        "      print(li)\n",
        "      break\n",
        "       \n",
        "\n"
      ],
      "metadata": {
        "colab": {
          "base_uri": "https://localhost:8080/"
        },
        "id": "AICRLpPgsauj",
        "outputId": "db063c95-2620-413f-a9a3-c11af3aefe3b"
      },
      "execution_count": 17,
      "outputs": [
        {
          "output_type": "stream",
          "name": "stdout",
          "text": [
            "Enter 1. To convert Celsius to Fahrenheit\n",
            "2.To convert Fahrenheit to Celsius\n",
            "3.To convert Celsius to Kelvin\n",
            "4.To convert Kelvin to Celsius\n",
            "5.To convert Fahrenheit to Kelvin\n",
            "6.To convert Kelvin to Fahrenheit\n",
            "7.To print history\n",
            "8.To exit\n",
            "1\n",
            "Enter value\n",
            "7\n",
            "Enter 1. To convert Celsius to Fahrenheit\n",
            "2.To convert Fahrenheit to Celsius\n",
            "3.To convert Celsius to Kelvin\n",
            "4.To convert Kelvin to Celsius\n",
            "5.To convert Fahrenheit to Kelvin\n",
            "6.To convert Kelvin to Fahrenheit\n",
            "7.To print history\n",
            "8.To exit\n",
            "7\n",
            "Enter\n",
            "1.Order by from-value\n",
            "2.Order by to-value\n",
            "1\n",
            "('7.0 C', '44.6 F')\n",
            "Enter 1. To convert Celsius to Fahrenheit\n",
            "2.To convert Fahrenheit to Celsius\n",
            "3.To convert Celsius to Kelvin\n",
            "4.To convert Kelvin to Celsius\n",
            "5.To convert Fahrenheit to Kelvin\n",
            "6.To convert Kelvin to Fahrenheit\n",
            "7.To print history\n",
            "8.To exit\n",
            "2\n",
            "Enter value\n",
            "45\n",
            "Enter 1. To convert Celsius to Fahrenheit\n",
            "2.To convert Fahrenheit to Celsius\n",
            "3.To convert Celsius to Kelvin\n",
            "4.To convert Kelvin to Celsius\n",
            "5.To convert Fahrenheit to Kelvin\n",
            "6.To convert Kelvin to Fahrenheit\n",
            "7.To print history\n",
            "8.To exit\n",
            "7\n",
            "Enter\n",
            "1.Order by from-value\n",
            "2.Order by to-value\n",
            "1\n",
            "('7.0 C', '44.6 F')\n",
            "('45.0 F', '7.222222222222222 C')\n",
            "Enter 1. To convert Celsius to Fahrenheit\n",
            "2.To convert Fahrenheit to Celsius\n",
            "3.To convert Celsius to Kelvin\n",
            "4.To convert Kelvin to Celsius\n",
            "5.To convert Fahrenheit to Kelvin\n",
            "6.To convert Kelvin to Fahrenheit\n",
            "7.To print history\n",
            "8.To exit\n",
            "7\n",
            "Enter\n",
            "1.Order by from-value\n",
            "2.Order by to-value\n",
            "2\n",
            "('45.0 F', '7.222222222222222 C')\n",
            "('7.0 C', '44.6 F')\n",
            "Enter 1. To convert Celsius to Fahrenheit\n",
            "2.To convert Fahrenheit to Celsius\n",
            "3.To convert Celsius to Kelvin\n",
            "4.To convert Kelvin to Celsius\n",
            "5.To convert Fahrenheit to Kelvin\n",
            "6.To convert Kelvin to Fahrenheit\n",
            "7.To print history\n",
            "8.To exit\n",
            "6\n",
            "Enter value\n",
            "45\n",
            "Enter 1. To convert Celsius to Fahrenheit\n",
            "2.To convert Fahrenheit to Celsius\n",
            "3.To convert Celsius to Kelvin\n",
            "4.To convert Kelvin to Celsius\n",
            "5.To convert Fahrenheit to Kelvin\n",
            "6.To convert Kelvin to Fahrenheit\n",
            "7.To print history\n",
            "8.To exit\n",
            "7\n",
            "Enter\n",
            "1.Order by from-value\n",
            "2.Order by to-value\n",
            "1\n",
            "('7.0 C', '44.6 F')\n",
            "('45.0 F', '7.222222222222222 C')\n",
            "('45.0 K', '604.67 F')\n",
            "Enter 1. To convert Celsius to Fahrenheit\n",
            "2.To convert Fahrenheit to Celsius\n",
            "3.To convert Celsius to Kelvin\n",
            "4.To convert Kelvin to Celsius\n",
            "5.To convert Fahrenheit to Kelvin\n",
            "6.To convert Kelvin to Fahrenheit\n",
            "7.To print history\n",
            "8.To exit\n",
            "7\n",
            "Enter\n",
            "1.Order by from-value\n",
            "2.Order by to-value\n",
            "2\n",
            "('45.0 F', '7.222222222222222 C')\n",
            "('7.0 C', '44.6 F')\n",
            "('45.0 K', '604.67 F')\n",
            "Enter 1. To convert Celsius to Fahrenheit\n",
            "2.To convert Fahrenheit to Celsius\n",
            "3.To convert Celsius to Kelvin\n",
            "4.To convert Kelvin to Celsius\n",
            "5.To convert Fahrenheit to Kelvin\n",
            "6.To convert Kelvin to Fahrenheit\n",
            "7.To print history\n",
            "8.To exit\n",
            "8\n",
            "[('7.0 C', '44.6 F'), ('45.0 F', '7.222222222222222 C'), ('45.0 K', '604.67 F')]\n"
          ]
        }
      ]
    }
  ]
}